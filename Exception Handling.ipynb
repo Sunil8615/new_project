{
 "cells": [
  {
   "cell_type": "markdown",
   "id": "b6ebcb86",
   "metadata": {},
   "source": [
    "# Exception Handling\n",
    "\n",
    " - Errors are the instance that doesnot allow the program to RUN\n",
    " - Warnings : Ignore them as they are related to future activities or some other. \n",
    " \n",
    " - Method of cathcing the ERRORS is known as Exception Handling\n",
    " \n",
    " - When you have a Class to catch the error, that is known as EXception\n",
    " \n",
    "- you can only catch run time errors\n",
    "\n",
    "\n",
    "Exceptions\n",
    "https://www.tutorialspoint.com/python/python_exceptions.htm\n",
    "\n",
    "\n",
    "Warnings\n",
    "https://python.readthedocs.io/en/stable/library/warnings.html"
   ]
  },
  {
   "cell_type": "markdown",
   "id": "50ae8950",
   "metadata": {},
   "source": [
    "## Types of Errors : "
   ]
  },
  {
   "cell_type": "code",
   "execution_count": null,
   "id": "b3ac67c3",
   "metadata": {},
   "outputs": [],
   "source": [
    "# 1. Compile Time Error\n",
    "# Any grammer or syntax error\n",
    "# Error that is identified by the compiler while reading the code\n"
   ]
  },
  {
   "cell_type": "code",
   "execution_count": 8,
   "id": "8e4b01a1",
   "metadata": {},
   "outputs": [
    {
     "ename": "SyntaxError",
     "evalue": "invalid syntax (1697465725.py, line 3)",
     "output_type": "error",
     "traceback": [
      "\u001b[1;36m  File \u001b[1;32m\"C:\\Users\\Nitish\\AppData\\Local\\Temp\\ipykernel_1184\\1697465725.py\"\u001b[1;36m, line \u001b[1;32m3\u001b[0m\n\u001b[1;33m    myList = [10, \"python\", 20j, False True]\u001b[0m\n\u001b[1;37m                                       ^\u001b[0m\n\u001b[1;31mSyntaxError\u001b[0m\u001b[1;31m:\u001b[0m invalid syntax\n"
     ]
    }
   ],
   "source": [
    "print(\"............Start\")\n",
    "\n",
    "myList = [10, \"python\", 20j, False True]\n",
    "print(myList)\n",
    "\n",
    "print(\"... END\")"
   ]
  },
  {
   "cell_type": "code",
   "execution_count": 9,
   "id": "d55d8202",
   "metadata": {},
   "outputs": [
    {
     "ename": "SyntaxError",
     "evalue": "invalid syntax (4247819678.py, line 4)",
     "output_type": "error",
     "traceback": [
      "\u001b[1;36m  File \u001b[1;32m\"C:\\Users\\Nitish\\AppData\\Local\\Temp\\ipykernel_1184\\4247819678.py\"\u001b[1;36m, line \u001b[1;32m4\u001b[0m\n\u001b[1;33m    if num%2 == 0\u001b[0m\n\u001b[1;37m                 ^\u001b[0m\n\u001b[1;31mSyntaxError\u001b[0m\u001b[1;31m:\u001b[0m invalid syntax\n"
     ]
    }
   ],
   "source": [
    "print(\"............Start\")\n",
    "\n",
    "num = 10\n",
    "if num%2 == 0\n",
    "    print('even')\n",
    "    else : \n",
    "        print(\"odd\")\n",
    "        \n",
    "print(\"... END\")"
   ]
  },
  {
   "cell_type": "code",
   "execution_count": null,
   "id": "eab69b8f",
   "metadata": {},
   "outputs": [],
   "source": []
  },
  {
   "cell_type": "code",
   "execution_count": null,
   "id": "a47a6ff2",
   "metadata": {},
   "outputs": [],
   "source": [
    "# 2. Run time Error\n",
    "# they are not identified while reading the code\n",
    "# Error that is identified by the compiler at the time of execution of the code\n"
   ]
  },
  {
   "cell_type": "code",
   "execution_count": 10,
   "id": "ffac259d",
   "metadata": {},
   "outputs": [
    {
     "name": "stdout",
     "output_type": "stream",
     "text": [
      "............Start\n"
     ]
    },
    {
     "ename": "FileNotFoundError",
     "evalue": "[Errno 2] No such file or directory: 'animals.txt'",
     "output_type": "error",
     "traceback": [
      "\u001b[1;31m---------------------------------------------------------------------------\u001b[0m",
      "\u001b[1;31mFileNotFoundError\u001b[0m                         Traceback (most recent call last)",
      "\u001b[1;32m~\\AppData\\Local\\Temp\\ipykernel_1184\\504444759.py\u001b[0m in \u001b[0;36m<module>\u001b[1;34m\u001b[0m\n\u001b[0;32m      1\u001b[0m \u001b[0mprint\u001b[0m\u001b[1;33m(\u001b[0m\u001b[1;34m\"............Start\"\u001b[0m\u001b[1;33m)\u001b[0m\u001b[1;33m\u001b[0m\u001b[1;33m\u001b[0m\u001b[0m\n\u001b[0;32m      2\u001b[0m \u001b[1;33m\u001b[0m\u001b[0m\n\u001b[1;32m----> 3\u001b[1;33m \u001b[0mf\u001b[0m \u001b[1;33m=\u001b[0m \u001b[0mopen\u001b[0m\u001b[1;33m(\u001b[0m\u001b[1;34m\"animals.txt\"\u001b[0m\u001b[1;33m,\u001b[0m \u001b[1;34m\"r\"\u001b[0m\u001b[1;33m)\u001b[0m\u001b[1;33m\u001b[0m\u001b[1;33m\u001b[0m\u001b[0m\n\u001b[0m\u001b[0;32m      4\u001b[0m \u001b[0mprint\u001b[0m\u001b[1;33m(\u001b[0m \u001b[0mf\u001b[0m\u001b[1;33m.\u001b[0m\u001b[0mread\u001b[0m\u001b[1;33m(\u001b[0m\u001b[1;33m)\u001b[0m \u001b[1;33m)\u001b[0m\u001b[1;33m\u001b[0m\u001b[1;33m\u001b[0m\u001b[0m\n\u001b[0;32m      5\u001b[0m \u001b[0mf\u001b[0m\u001b[1;33m.\u001b[0m\u001b[0mclose\u001b[0m\u001b[1;33m(\u001b[0m\u001b[1;33m)\u001b[0m\u001b[1;33m\u001b[0m\u001b[1;33m\u001b[0m\u001b[0m\n",
      "\u001b[1;31mFileNotFoundError\u001b[0m: [Errno 2] No such file or directory: 'animals.txt'"
     ]
    }
   ],
   "source": [
    "print(\"............Start\")\n",
    "\n",
    "f = open(\"animals.txt\", \"r\")\n",
    "print( f.read() )\n",
    "f.close()\n",
    "print(\"... END\")"
   ]
  },
  {
   "cell_type": "code",
   "execution_count": 11,
   "id": "356f865f",
   "metadata": {},
   "outputs": [
    {
     "name": "stdout",
     "output_type": "stream",
     "text": [
      "............Start\n"
     ]
    },
    {
     "ename": "IndexError",
     "evalue": "list index out of range",
     "output_type": "error",
     "traceback": [
      "\u001b[1;31m---------------------------------------------------------------------------\u001b[0m",
      "\u001b[1;31mIndexError\u001b[0m                                Traceback (most recent call last)",
      "\u001b[1;32m~\\AppData\\Local\\Temp\\ipykernel_1184\\3618352962.py\u001b[0m in \u001b[0;36m<module>\u001b[1;34m\u001b[0m\n\u001b[0;32m      2\u001b[0m \u001b[1;33m\u001b[0m\u001b[0m\n\u001b[0;32m      3\u001b[0m \u001b[0mmyList\u001b[0m \u001b[1;33m=\u001b[0m \u001b[1;33m[\u001b[0m\u001b[1;36m10\u001b[0m\u001b[1;33m,\u001b[0m \u001b[1;34m\"python\"\u001b[0m\u001b[1;33m,\u001b[0m \u001b[1;36m20j\u001b[0m\u001b[1;33m,\u001b[0m \u001b[1;32mFalse\u001b[0m\u001b[1;33m,\u001b[0m \u001b[1;32mTrue\u001b[0m\u001b[1;33m]\u001b[0m\u001b[1;33m\u001b[0m\u001b[1;33m\u001b[0m\u001b[0m\n\u001b[1;32m----> 4\u001b[1;33m \u001b[0mprint\u001b[0m\u001b[1;33m(\u001b[0m\u001b[0mmyList\u001b[0m\u001b[1;33m[\u001b[0m\u001b[1;36m5\u001b[0m\u001b[1;33m]\u001b[0m\u001b[1;33m)\u001b[0m\u001b[1;33m\u001b[0m\u001b[1;33m\u001b[0m\u001b[0m\n\u001b[0m\u001b[0;32m      5\u001b[0m \u001b[0mprint\u001b[0m\u001b[1;33m(\u001b[0m\u001b[1;34m\"... END\"\u001b[0m\u001b[1;33m)\u001b[0m\u001b[1;33m\u001b[0m\u001b[1;33m\u001b[0m\u001b[0m\n",
      "\u001b[1;31mIndexError\u001b[0m: list index out of range"
     ]
    }
   ],
   "source": [
    "print(\"............Start\")\n",
    "\n",
    "myList = [10, \"python\", 20j, False, True]\n",
    "print(myList[5])\n",
    "print(\"... END\")"
   ]
  },
  {
   "cell_type": "code",
   "execution_count": 12,
   "id": "31d69ec9",
   "metadata": {},
   "outputs": [
    {
     "name": "stdout",
     "output_type": "stream",
     "text": [
      "............Start\n"
     ]
    },
    {
     "ename": "ZeroDivisionError",
     "evalue": "division by zero",
     "output_type": "error",
     "traceback": [
      "\u001b[1;31m---------------------------------------------------------------------------\u001b[0m",
      "\u001b[1;31mZeroDivisionError\u001b[0m                         Traceback (most recent call last)",
      "\u001b[1;32m~\\AppData\\Local\\Temp\\ipykernel_1184\\515518313.py\u001b[0m in \u001b[0;36m<module>\u001b[1;34m\u001b[0m\n\u001b[0;32m      3\u001b[0m \u001b[0mnum1\u001b[0m \u001b[1;33m=\u001b[0m \u001b[1;36m10\u001b[0m\u001b[1;33m\u001b[0m\u001b[1;33m\u001b[0m\u001b[0m\n\u001b[0;32m      4\u001b[0m \u001b[0mnum2\u001b[0m \u001b[1;33m=\u001b[0m \u001b[1;36m0\u001b[0m\u001b[1;33m\u001b[0m\u001b[1;33m\u001b[0m\u001b[0m\n\u001b[1;32m----> 5\u001b[1;33m \u001b[0mprint\u001b[0m\u001b[1;33m(\u001b[0m \u001b[0mnum1\u001b[0m \u001b[1;33m/\u001b[0m \u001b[0mnum2\u001b[0m \u001b[1;33m)\u001b[0m\u001b[1;33m\u001b[0m\u001b[1;33m\u001b[0m\u001b[0m\n\u001b[0m\u001b[0;32m      6\u001b[0m \u001b[0mprint\u001b[0m\u001b[1;33m(\u001b[0m\u001b[1;34m\"... END\"\u001b[0m\u001b[1;33m)\u001b[0m\u001b[1;33m\u001b[0m\u001b[1;33m\u001b[0m\u001b[0m\n",
      "\u001b[1;31mZeroDivisionError\u001b[0m: division by zero"
     ]
    }
   ],
   "source": [
    "print(\"............Start\")\n",
    "\n",
    "num1 = 10\n",
    "num2 = 0\n",
    "print( num1 / num2 )\n",
    "print(\"... END\")"
   ]
  },
  {
   "cell_type": "code",
   "execution_count": null,
   "id": "773ea735",
   "metadata": {},
   "outputs": [],
   "source": []
  },
  {
   "cell_type": "markdown",
   "id": "e9a9cd51",
   "metadata": {},
   "source": [
    "# Blocks of Exception Handling\n",
    "\n",
    "try : \n",
    "    statements\n",
    "    statements\n",
    "    statements\n",
    "    statements\n",
    "\n",
    "except : \n",
    "    statements\n",
    "    statements\n",
    "\n",
    "finally : \n",
    "    statements\n",
    "    statements"
   ]
  },
  {
   "cell_type": "markdown",
   "id": "5a33f5db",
   "metadata": {},
   "source": [
    "### NOTES : \n",
    "\n",
    "- When try block catches the error, then it stops and jumps to next block\n",
    "- TRY block alone cannot exist\n",
    "- except and finally cannot exist without TRY block\n",
    "- "
   ]
  },
  {
   "cell_type": "markdown",
   "id": "e4b3da23",
   "metadata": {},
   "source": [
    "**Try Block :**\n",
    "\n",
    "- That code is written inside the try block where you can expect an error\n",
    "- Where actual execution of thee code happens\n",
    "- HINT : User values are involved, Some Storage...."
   ]
  },
  {
   "cell_type": "markdown",
   "id": "b0a89c57",
   "metadata": {},
   "source": [
    "**Except Block :**\n",
    "\n",
    "- Execute an alternate on catching the error\n"
   ]
  },
  {
   "cell_type": "markdown",
   "id": "a0e1d8e1",
   "metadata": {},
   "source": [
    "**Finally Block :**\n",
    "\n",
    "- This block will always get executed\n",
    "- End activities....\n"
   ]
  },
  {
   "cell_type": "code",
   "execution_count": 16,
   "id": "3642a89b",
   "metadata": {},
   "outputs": [
    {
     "name": "stdout",
     "output_type": "stream",
     "text": [
      "............Start\n",
      "FILE OPeration : \n",
      " Hello Everyone\n",
      "Python\n",
      "Java\n",
      "CSharp\n",
      "\n",
      "List =>  python\n",
      "\n",
      "Division ::  0.5\n",
      "______________ THANK YOU ____________________\n"
     ]
    }
   ],
   "source": [
    "## Best Scenario : YOU DON\"T KNOW THE ERROR\n",
    "\n",
    "print(\"............Start\")\n",
    "try : \n",
    "    \n",
    "    # File Read Operations\n",
    "    f = open(\"data.txt\", \"r\")\n",
    "    print(\"FILE OPeration : \\n\",  f.read() )\n",
    "    f.close()\n",
    "    \n",
    "    # List Index \n",
    "    myList = [10, \"python\", 20j, False, True]\n",
    "    print(\"List => \", myList[1])\n",
    "    print()\n",
    "    \n",
    "    # Zero Division\n",
    "    num1 = 10\n",
    "    num2 = 20\n",
    "    print( \"Division :: \", num1 / num2 )\n",
    "\n",
    "except : \n",
    "    print(\"There is some Error. SORRY\")\n",
    "\n",
    "finally : \n",
    "    print(\"______________ THANK YOU ____________________\") \n"
   ]
  },
  {
   "cell_type": "code",
   "execution_count": 23,
   "id": "ea4a56da",
   "metadata": {},
   "outputs": [
    {
     "name": "stdout",
     "output_type": "stream",
     "text": [
      "............Start\n",
      "FILE OPeration : \n",
      " Hello Everyone\n",
      "Python\n",
      "Java\n",
      "CSharp\n",
      "\n",
      "List =>  python\n",
      "\n",
      "Division ::  0.5\n",
      "______________ THANK YOU ____________________\n"
     ]
    }
   ],
   "source": [
    "## Best Scenario : YOU DON\"T KNOW THE ERROR\n",
    "\n",
    "print(\"............Start\")\n",
    "myList = [10, \"python\", 20j, False, True]\n",
    "num1 = 10\n",
    "num2 = 20\n",
    "\n",
    "try : \n",
    "    \n",
    "    # File Read Operations\n",
    "    f = open(\"data.txt\", \"r\")\n",
    "    print(\"FILE OPeration : \\n\",  f.read() )\n",
    "    f.close()\n",
    "    \n",
    "    # List Index \n",
    "    print(\"List => \", myList[1])\n",
    "    print()\n",
    "    \n",
    "    # Zero Division\n",
    "    print( \"Division :: \", num1 / num2 )\n",
    "\n",
    "except : \n",
    "    print(\"There is some Error. SORRY\")\n",
    "\n",
    "finally : \n",
    "    print(\"______________ THANK YOU ____________________\") \n"
   ]
  },
  {
   "cell_type": "code",
   "execution_count": null,
   "id": "108349e7",
   "metadata": {},
   "outputs": [],
   "source": []
  },
  {
   "cell_type": "code",
   "execution_count": 26,
   "id": "809b4a57",
   "metadata": {},
   "outputs": [
    {
     "name": "stdout",
     "output_type": "stream",
     "text": [
      "............Start\n",
      "FILE OPeration : \n",
      " Hello Everyone\n",
      "Python\n",
      "Java\n",
      "CSharp\n",
      "\n",
      "List =>  python\n",
      "\n",
      "There is some Error. SORRY\n",
      "______________ THANK YOU ____________________\n"
     ]
    }
   ],
   "source": [
    "## Worse Scenario : YOU DON\"T KNOW THE ERROR\n",
    "\n",
    "print(\"............Start\")\n",
    "try : \n",
    "    \n",
    "    # File Read Operations\n",
    "    f = open(\"emp.txt\", \"r\")\n",
    "    print(\"FILE OPeration : \\n\",  f.read() )\n",
    "    f.close()\n",
    "    \n",
    "    # List Index \n",
    "    myList = [10, \"python\", 20j, False, True]\n",
    "    print(\"List => \", myList[1])\n",
    "    print()\n",
    "    \n",
    "    # Zero Division\n",
    "    num1 = 10\n",
    "    num2 = 20\n",
    "    print( \"Division :: \", num1 / num2 )\n",
    "\n",
    "except : \n",
    "    print(\"There is some Error. SORRY\")\n",
    "\n",
    "finally : \n",
    "    print(\"______________ THANK YOU ____________________\") \n"
   ]
  },
  {
   "cell_type": "code",
   "execution_count": 29,
   "id": "7bc61007",
   "metadata": {},
   "outputs": [
    {
     "name": "stdout",
     "output_type": "stream",
     "text": [
      "............Start\n",
      "FILE OPeration : \n",
      " Hello Everyone\n",
      "Python\n",
      "Java\n",
      "CSharp\n",
      "\n",
      "List =>  python\n",
      "\n",
      "SORRY : There is some Error ::: division by zero\n",
      "______________ THANK YOU ____________________\n"
     ]
    }
   ],
   "source": [
    "## Worse Scenario : YOU DON\"T KNOW THE ERROR\n",
    "# Here we get info of error\n",
    "\n",
    "print(\"............Start\")\n",
    "try : \n",
    "    \n",
    "    # File Read Operations\n",
    "    f = open(\"data.txt\", \"r\")\n",
    "    print(\"FILE OPeration : \\n\",  f.read() )\n",
    "    f.close()\n",
    "    \n",
    "    # List Index \n",
    "    myList = [10, \"python\", 20j, False, True]\n",
    "    print(\"List => \", myList[1])\n",
    "    print()\n",
    "    \n",
    "    # Zero Division\n",
    "    num1 = 10\n",
    "    num2 = 0\n",
    "    print( \"Division :: \", num1 / num2 )\n",
    "\n",
    "except Exception as e: \n",
    "    print(\"SORRY : There is some Error :::\", e)\n",
    "\n",
    "finally : \n",
    "    print(\"______________ THANK YOU ____________________\") \n"
   ]
  },
  {
   "cell_type": "code",
   "execution_count": 41,
   "id": "408b5c35",
   "metadata": {},
   "outputs": [
    {
     "name": "stdout",
     "output_type": "stream",
     "text": [
      "............Start\n",
      "SORRY : There is some Error ::: [Errno 2] No such file or directory: 'emp.txt'\n",
      "______________ THANK YOU ____________________\n"
     ]
    }
   ],
   "source": [
    "## Worse Scenario : YOU DON\"T KNOW THE ERROR\n",
    "# Here we get info of error and catch that\n",
    "\n",
    "print(\"............Start\")\n",
    "try : \n",
    "    \n",
    "    # File Read Operations\n",
    "    f = open(\"emp.txt\", \"r\")\n",
    "    print(\"FILE OPeration : \\n\",  f.read() )\n",
    "    f.close()\n",
    "    \n",
    "    # List Index \n",
    "    myList = [10, \"python\", 20j, False, True]\n",
    "    print(\"List => \", myList[1])\n",
    "    print()\n",
    "    \n",
    "    # Zero Division\n",
    "    num1 = 10\n",
    "    num2 = 20\n",
    "    print( \"Division :: \", num1 / num2 )\n",
    "\n",
    "\n",
    "# except FileNotFoundError : \n",
    "#     print(\"There seems incorrect file name\")\n",
    "\n",
    "except ZeroDivisionError  : \n",
    "    print(\"Check Denominator of the number num2 \", num2)\n",
    "\n",
    "except IndexError  : \n",
    "    print(f\"Index problem with {myList} = pos ____\")\n",
    "\n",
    "    \n",
    "except Exception as e: \n",
    "    print(\"SORRY : There is some Error :::\", e)\n",
    "\n",
    "finally : \n",
    "    print(\"______________ THANK YOU ____________________\") \n"
   ]
  },
  {
   "cell_type": "code",
   "execution_count": 46,
   "id": "e3403da9",
   "metadata": {},
   "outputs": [
    {
     "name": "stdout",
     "output_type": "stream",
     "text": [
      "............Start\n",
      "FILE OPeration : \n",
      " Hello Everyone\n",
      "Python\n",
      "Java\n",
      "CSharp\n",
      "\n",
      "List =>  python\n",
      "\n",
      "SORRY Error -->  division by zero\n",
      "______________ THANK YOU ____________________\n"
     ]
    }
   ],
   "source": [
    "# Document it in the LOG file\n",
    "import logging\n",
    "# os.remove(LOG.txt)\n",
    "logging.basicConfig(filename=\"LOG.txt\", level=logging.ERROR) # default it will append the data\n",
    "\n",
    "print(\"............Start\")\n",
    "try : \n",
    "    \n",
    "    # File Read Operations\n",
    "    f = open(\"data.txt\", \"r\")\n",
    "    print(\"FILE OPeration : \\n\",  f.read() )\n",
    "    f.close()\n",
    "    \n",
    "    # List Index \n",
    "    myList = [10, \"python\", 20j, False, True]\n",
    "    print(\"List => \", myList[1])\n",
    "    print()\n",
    "    \n",
    "    # Zero Division\n",
    "    num1 = 10\n",
    "    num2 = 0\n",
    "    print( \"Division :: \", num1 / num2 )\n",
    "\n",
    "except Exception as e : \n",
    "    print(\"SORRY Error --> \", e)\n",
    "    logging.exception(e)\n",
    "\n",
    "finally : \n",
    "    print(\"______________ THANK YOU ____________________\") \n"
   ]
  },
  {
   "cell_type": "code",
   "execution_count": null,
   "id": "495f0e23",
   "metadata": {},
   "outputs": [],
   "source": []
  },
  {
   "cell_type": "code",
   "execution_count": null,
   "id": "46751f9b",
   "metadata": {},
   "outputs": [],
   "source": []
  },
  {
   "cell_type": "code",
   "execution_count": null,
   "id": "d4aedc3b",
   "metadata": {},
   "outputs": [],
   "source": []
  },
  {
   "cell_type": "code",
   "execution_count": null,
   "id": "e46254b0",
   "metadata": {},
   "outputs": [],
   "source": []
  },
  {
   "cell_type": "code",
   "execution_count": null,
   "id": "af5932f2",
   "metadata": {},
   "outputs": [],
   "source": []
  },
  {
   "cell_type": "code",
   "execution_count": null,
   "id": "19282667",
   "metadata": {},
   "outputs": [],
   "source": []
  }
 ],
 "metadata": {
  "kernelspec": {
   "display_name": "Python 3 (ipykernel)",
   "language": "python",
   "name": "python3"
  },
  "language_info": {
   "codemirror_mode": {
    "name": "ipython",
    "version": 3
   },
   "file_extension": ".py",
   "mimetype": "text/x-python",
   "name": "python",
   "nbconvert_exporter": "python",
   "pygments_lexer": "ipython3",
   "version": "3.9.13"
  }
 },
 "nbformat": 4,
 "nbformat_minor": 5
}
