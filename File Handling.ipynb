{
 "cells": [
  {
   "cell_type": "markdown",
   "id": "4391e35e",
   "metadata": {},
   "source": [
    "# File Handling\n",
    "\n",
    "- performing file operations (read, write, copy - shutil package , close, open, append, tell)\n",
    "- variable that holds file operation is called as FILE HANDLER (file, f, filehandler)...\n",
    "- types of files : textfile, binaryfile\n",
    "- encoding : utf-8, latin1\n",
    "\n",
    "\n",
    "\n"
   ]
  },
  {
   "cell_type": "code",
   "execution_count": null,
   "id": "2217a7ee",
   "metadata": {},
   "outputs": [],
   "source": [
    "# Syntax :\n",
    "\n",
    "# f = open( fileName, mode )\n",
    "# operations\n",
    "# operations\n",
    "# operations\n",
    "\n",
    "# f.close()\n",
    "\n",
    "\n",
    "# mode : rt/r, wt/w, at/a, rb, wb, ab\n",
    "# b : binary (jpeg, png) ; t : text\n",
    "# data in the text file is just a string"
   ]
  },
  {
   "cell_type": "markdown",
   "id": "88dba4b8",
   "metadata": {},
   "source": [
    "## NOTES : \n",
    "\n",
    "- close the file after every ACTION : \n",
    "            - It can be reused for other ACTION\n",
    "            - Data is not lost\n",
    "            \n",
    "            \n",
    "- for read mode, file should exist\n",
    "- For Write Mode, There is no compulsuion that file shall exist\n",
    "- For Write Mode, it overwrites the file, if called again\n",
    "- In Both read and write mode, the cursor is always at the start\n",
    "- For Append Mode, There is no compulsuion that file shall exist\n",
    "- For Append Mode, it DONT overwrites the file, if called again\n"
   ]
  },
  {
   "cell_type": "code",
   "execution_count": 3,
   "id": "652a5775",
   "metadata": {},
   "outputs": [
    {
     "name": "stdout",
     "output_type": "stream",
     "text": [
      "10j\n",
      "<class 'complex'>\n"
     ]
    }
   ],
   "source": [
    "x = 10j\n",
    "print( x )\n",
    "print( type(x) )"
   ]
  },
  {
   "cell_type": "code",
   "execution_count": 4,
   "id": "f6f7f604",
   "metadata": {},
   "outputs": [
    {
     "name": "stdout",
     "output_type": "stream",
     "text": [
      "Hello\n",
      "<class 'function'>\n"
     ]
    }
   ],
   "source": [
    "def fun() : \n",
    "    return \"Hello\"\n",
    "print(fun() )\n",
    "print( type(fun) )"
   ]
  },
  {
   "cell_type": "code",
   "execution_count": 6,
   "id": "bb80ba7c",
   "metadata": {},
   "outputs": [
    {
     "name": "stdout",
     "output_type": "stream",
     "text": [
      "10\n",
      "<class 'int'>\n"
     ]
    }
   ],
   "source": [
    "fun = 10\n",
    "print( fun)\n",
    "print( type(fun) )"
   ]
  },
  {
   "cell_type": "code",
   "execution_count": 10,
   "id": "807ed094",
   "metadata": {},
   "outputs": [
    {
     "name": "stdout",
     "output_type": "stream",
     "text": [
      "Hello Everyone\n",
      "Python\n",
      "Java\n",
      "CSharp\n",
      "\n"
     ]
    }
   ],
   "source": [
    "# Read the FIle\n",
    "\n",
    "f = open(\"data.txt\", \"r\") # rt\n",
    "message = f.read() #fetch the information from the text file. \n",
    "print(message)\n",
    "f.close()"
   ]
  },
  {
   "cell_type": "code",
   "execution_count": 9,
   "id": "599ff9b6",
   "metadata": {},
   "outputs": [],
   "source": [
    "# Write the file\n",
    "\n",
    "f = open( \"data.txt\", \"wt\" ) # w\n",
    "f.write( \"Hello Everyone\\n\" )\n",
    "f.write(\"Python\\n\")\n",
    "f.write(\"Java\\n\")\n",
    "f.write(\"CSharp\\n\")\n",
    "f.close()\n"
   ]
  },
  {
   "cell_type": "code",
   "execution_count": 12,
   "id": "00bb71c1",
   "metadata": {},
   "outputs": [],
   "source": [
    "# type(f)"
   ]
  },
  {
   "cell_type": "code",
   "execution_count": 16,
   "id": "bfee8c5a",
   "metadata": {},
   "outputs": [
    {
     "data": {
      "text/plain": [
       "7"
      ]
     },
     "execution_count": 16,
     "metadata": {},
     "output_type": "execute_result"
    }
   ],
   "source": [
    "# # Why Not CLOSE the file ::\n",
    "\n",
    "# f = open( \"data.txt\", \"wt\" ) # w\n",
    "# f.write( \"Hello Everyone\\n\" )\n",
    "# f.write(\"Python\\n\")\n",
    "# f.write(\"Java\\n\")\n",
    "# f.write(\"CSharp\\n\")\n",
    "\n"
   ]
  },
  {
   "cell_type": "code",
   "execution_count": 18,
   "id": "ee86038a",
   "metadata": {},
   "outputs": [],
   "source": [
    "# ff = open(\"data.txt\", \"r\") # rt\n",
    "# message = ff.read() #fetch the information from the text file. \n",
    "# print(message)"
   ]
  },
  {
   "cell_type": "markdown",
   "id": "dd32acb7",
   "metadata": {},
   "source": [
    "### What happens when we write the file again"
   ]
  },
  {
   "cell_type": "code",
   "execution_count": 23,
   "id": "7fab3549",
   "metadata": {},
   "outputs": [
    {
     "name": "stdout",
     "output_type": "stream",
     "text": [
      "Cursor Position :  0\n",
      ".... WRITE TASK IS COMPLETED \n",
      "----------------------------------------------------\n",
      "Read the file\n",
      "Cursor Position :  0\n",
      "Hello Everyone\n",
      "Python\n",
      "Java\n",
      "CSharp\n",
      "\n"
     ]
    }
   ],
   "source": [
    "# Write the file\n",
    "\n",
    "f = open( \"data.txt\", \"wt\" ) # w\n",
    "print(\"Cursor Position : \", f.tell())\n",
    "f.write( \"Hello Everyone\\n\" )\n",
    "f.write(\"Python\\n\")\n",
    "f.write(\"Java\\n\")\n",
    "f.write(\"CSharp\\n\")\n",
    "f.close()\n",
    "print(\".... WRITE TASK IS COMPLETED \")\n",
    "\n",
    "print(\"----------------------------------------------------\")\n",
    "\n",
    "# Read the FIle\n",
    "print(\"Read the file\")\n",
    "t = open(\"data.txt\", \"r\") # rt\n",
    "print(\"Cursor Position : \", t.tell())\n",
    "message = t.read() #fetch the information from the text file. \n",
    "print(message)\n",
    "t.close()"
   ]
  },
  {
   "cell_type": "code",
   "execution_count": 24,
   "id": "9e0d2a1a",
   "metadata": {},
   "outputs": [
    {
     "name": "stdout",
     "output_type": "stream",
     "text": [
      "Cursor Position :  0\n",
      ".... WRITE TASK IS COMPLETED \n",
      "----------------------------------------------------\n",
      "Read the file\n",
      "Cursor Position :  0\n",
      "See Ya .......\n"
     ]
    }
   ],
   "source": [
    "# Write the file\n",
    "\n",
    "f = open( \"data.txt\", \"wt\" ) # w\n",
    "print(\"Cursor Position : \", f.tell())\n",
    "f.write(\"See Ya .......\")\n",
    "f.close()\n",
    "print(\".... WRITE TASK IS COMPLETED \")\n",
    "\n",
    "print(\"----------------------------------------------------\")\n",
    "\n",
    "# Read the FIle\n",
    "print(\"Read the file\")\n",
    "t = open(\"data.txt\", \"r\") # rt\n",
    "print(\"Cursor Position : \", t.tell())\n",
    "message = t.read() #fetch the information from the text file. \n",
    "print(message)\n",
    "t.close()"
   ]
  },
  {
   "cell_type": "code",
   "execution_count": null,
   "id": "e623059f",
   "metadata": {},
   "outputs": [],
   "source": []
  },
  {
   "cell_type": "markdown",
   "id": "82fe2d2d",
   "metadata": {},
   "source": [
    "### What happens when we write the file again with APPEND"
   ]
  },
  {
   "cell_type": "code",
   "execution_count": 29,
   "id": "24d188fa",
   "metadata": {},
   "outputs": [
    {
     "name": "stdout",
     "output_type": "stream",
     "text": [
      "Cursor Position :  66\n",
      ".... WRITE TASK IS COMPLETED \n",
      "----------------------------------------------------\n",
      "Read the file\n",
      "Cursor Position :  0\n",
      "Hello Everyone\n",
      "Python\n",
      "Java\n",
      "CSharp\n",
      "See Ya .......See Ya .......Hello Everyone\n",
      "Python\n",
      "Java\n",
      "CSharp\n",
      "\n"
     ]
    }
   ],
   "source": [
    "# Write the file\n",
    "\n",
    "f = open( \"newFile.txt\", \"a\" ) # w\n",
    "print(\"Cursor Position : \", f.tell())\n",
    "f.write( \"Hello Everyone\\n\" )\n",
    "f.write(\"Python\\n\")\n",
    "f.write(\"Java\\n\")\n",
    "f.write(\"CSharp\\n\")\n",
    "f.close()\n",
    "print(\".... WRITE TASK IS COMPLETED \")\n",
    "\n",
    "print(\"----------------------------------------------------\")\n",
    "\n",
    "# Read the FIle\n",
    "print(\"Read the file\")\n",
    "t = open(\"newFile.txt\", \"r\") # rt\n",
    "print(\"Cursor Position : \", t.tell())\n",
    "message = t.read() #fetch the information from the text file. \n",
    "print(message)\n",
    "t.close()"
   ]
  },
  {
   "cell_type": "code",
   "execution_count": 30,
   "id": "583b23df",
   "metadata": {},
   "outputs": [
    {
     "name": "stdout",
     "output_type": "stream",
     "text": [
      "Cursor Position :  104\n",
      ".... WRITE TASK IS COMPLETED \n",
      "----------------------------------------------------\n",
      "Read the file\n",
      "Cursor Position :  0\n",
      "Hello Everyone\n",
      "Python\n",
      "Java\n",
      "CSharp\n",
      "See Ya .......See Ya .......Hello Everyone\n",
      "Python\n",
      "Java\n",
      "CSharp\n",
      "See Ya .......\n",
      "<class 'str'>\n"
     ]
    }
   ],
   "source": [
    "# Write the file\n",
    "\n",
    "f = open( \"newFile.txt\", \"at\" ) # w\n",
    "print(\"Cursor Position : \", f.tell())\n",
    "f.write(\"See Ya .......\")\n",
    "f.close()\n",
    "print(\".... WRITE TASK IS COMPLETED \")\n",
    "\n",
    "print(\"----------------------------------------------------\")\n",
    "\n",
    "# Read the FIle\n",
    "print(\"Read the file\")\n",
    "t = open(\"newFile.txt\", \"r\") # rt\n",
    "print(\"Cursor Position : \", t.tell())\n",
    "message = t.read() #fetch the information from the text file. \n",
    "print(message)\n",
    "print(type(message))\n",
    "\n",
    "t.close()"
   ]
  },
  {
   "cell_type": "code",
   "execution_count": null,
   "id": "29889296",
   "metadata": {},
   "outputs": [],
   "source": []
  },
  {
   "cell_type": "code",
   "execution_count": 35,
   "id": "3a33ddcf",
   "metadata": {},
   "outputs": [
    {
     "name": "stdout",
     "output_type": "stream",
     "text": [
      "Write the data : amit\n",
      "Write the data : chandan\n",
      "Write the data : ruchi\n",
      "Write the data : nitish\n",
      "Write the data : kapil qq\n",
      "Write the data :     Qq   \n",
      ".... WRITE TASK IS COMPLETED \n",
      "----------------------------------------------------\n",
      "Read the file\n",
      "amit\n",
      "chandan\n",
      "ruchi\n",
      "nitish\n",
      "kapil qq\n",
      "\n"
     ]
    },
    {
     "ename": "AttributeError",
     "evalue": "'_io.TextIOWrapper' object has no attribute 'closer'",
     "output_type": "error",
     "traceback": [
      "\u001b[1;31m---------------------------------------------------------------------------\u001b[0m",
      "\u001b[1;31mAttributeError\u001b[0m                            Traceback (most recent call last)",
      "\u001b[1;32m~\\AppData\\Local\\Temp\\ipykernel_15176\\2782931511.py\u001b[0m in \u001b[0;36m<module>\u001b[1;34m\u001b[0m\n\u001b[0;32m     28\u001b[0m \u001b[0mmessage\u001b[0m \u001b[1;33m=\u001b[0m \u001b[0mt\u001b[0m\u001b[1;33m.\u001b[0m\u001b[0mread\u001b[0m\u001b[1;33m(\u001b[0m\u001b[1;33m)\u001b[0m \u001b[1;31m#fetch the information from the text file.\u001b[0m\u001b[1;33m\u001b[0m\u001b[1;33m\u001b[0m\u001b[0m\n\u001b[0;32m     29\u001b[0m \u001b[0mprint\u001b[0m\u001b[1;33m(\u001b[0m\u001b[0mmessage\u001b[0m\u001b[1;33m)\u001b[0m\u001b[1;33m\u001b[0m\u001b[1;33m\u001b[0m\u001b[0m\n\u001b[1;32m---> 30\u001b[1;33m \u001b[0mt\u001b[0m\u001b[1;33m.\u001b[0m\u001b[0mcloser\u001b[0m\u001b[1;33m(\u001b[0m\u001b[1;33m)\u001b[0m\u001b[1;33m\u001b[0m\u001b[1;33m\u001b[0m\u001b[0m\n\u001b[0m\u001b[0;32m     31\u001b[0m \u001b[1;33m\u001b[0m\u001b[0m\n",
      "\u001b[1;31mAttributeError\u001b[0m: '_io.TextIOWrapper' object has no attribute 'closer'"
     ]
    }
   ],
   "source": [
    "## MAke a program where user writes the information and it will get saved into the file...\n",
    "# STOP : Allow the user that many lines\n",
    "# USER : QQ to stop\n",
    "\n",
    "\n",
    "userFile = open( \"user.txt\", \"w\" )\n",
    "\n",
    "while True : \n",
    "    \n",
    "    data = input( \"Write the data : \" ) #str\n",
    "    \n",
    "    if data.lower().strip() == \"qq\" : \n",
    "        userFile.close()  # save/close the file\n",
    "        break\n",
    "\n",
    "    userFile.write(data)\n",
    "    userFile.write(\"\\n\")\n",
    "\n",
    "    \n",
    "print(\".... WRITE TASK IS COMPLETED \")\n",
    "\n",
    "print(\"----------------------------------------------------\")\n",
    "\n",
    "# Read the FIle\n",
    "print(\"Read the file\")\n",
    "t = open(\"user.txt\", \"r\") # rt\n",
    "# print(\"Cursor Position : \", t.tell())\n",
    "message = t.read() #fetch the information from the text file. \n",
    "print(message)\n",
    "t.close()\n",
    "\n"
   ]
  },
  {
   "cell_type": "code",
   "execution_count": null,
   "id": "d398f402",
   "metadata": {},
   "outputs": [],
   "source": []
  },
  {
   "cell_type": "code",
   "execution_count": null,
   "id": "5aa75201",
   "metadata": {},
   "outputs": [],
   "source": []
  },
  {
   "cell_type": "code",
   "execution_count": null,
   "id": "80e64911",
   "metadata": {},
   "outputs": [],
   "source": []
  },
  {
   "cell_type": "code",
   "execution_count": null,
   "id": "8df365eb",
   "metadata": {},
   "outputs": [],
   "source": [
    "## save the Finanocci series to the text file\n",
    "# HINT :string - text write"
   ]
  },
  {
   "cell_type": "code",
   "execution_count": null,
   "id": "5fbcff83",
   "metadata": {},
   "outputs": [],
   "source": [
    "## save the List Elements to the file ...\n"
   ]
  },
  {
   "cell_type": "code",
   "execution_count": null,
   "id": "6b79e2ce",
   "metadata": {},
   "outputs": [],
   "source": [
    "# input : \n",
    "fruit = [ \"apple\", \"CustARD Apple\", \" ManGO   \", \"   kiWI\", \" pineAPPLE  \" ]\n",
    "\n",
    "# output : \n",
    "fruit = [ \"apple\", \"CustARD Apple\",\" pineAPPLE  \" ]\n",
    "\n",
    "# extracting only fruits containing apple, and save it to the text file\n",
    "apple\n",
    "CustARD Apple\n",
    " pineAPPLE  "
   ]
  },
  {
   "cell_type": "code",
   "execution_count": 36,
   "id": "f7782afc",
   "metadata": {},
   "outputs": [
    {
     "data": {
      "text/plain": [
       "['apple', 'CustARD Apple', ' pineAPPLE  ']"
      ]
     },
     "execution_count": 36,
     "metadata": {},
     "output_type": "execute_result"
    }
   ],
   "source": [
    "fruit = [ \"apple\", \"CustARD Apple\", \" ManGO   \", \"   kiWI\", \" pineAPPLE  \" ]\n",
    "\n",
    "result = []\n",
    "for f in fruit : \n",
    "    if \"APPLE\" in f.upper().strip() : \n",
    "        result.append(f)\n",
    "result\n",
    "fruit = [ \"apple\", \"CustARD Apple\", \" ManGO   \", \"   kiWI\", \" pineAPPLE  \" ]\n",
    "\n",
    "result = [ f for f in fruit if 'APPLE' in f.strip().upper()  ]\n",
    "result"
   ]
  },
  {
   "cell_type": "code",
   "execution_count": null,
   "id": "1e84fa3c",
   "metadata": {},
   "outputs": [],
   "source": []
  },
  {
   "cell_type": "code",
   "execution_count": null,
   "id": "e1f9192e",
   "metadata": {},
   "outputs": [],
   "source": [
    "# input : \n",
    "fruit = [ \"apple\", \"CustARD Apple\", \" ManGO   \", \"   kiWI\", \" pineAPPLE  \" ]\n",
    "\n",
    "# output : \n",
    "fruit = [ \"APPLE\", \"CUSTARD APPLE\", \"mango\", \"kiwi\", \"PINEAPPLE\" ]\n",
    "\n",
    "# if apple is there then uppercase + strip else lowercase + strip\n",
    "# and save it to the text file\n",
    "'APPLE'\n",
    "'CUSTARD APPLE'\n",
    "'mango'\n",
    "'kiwi'\n",
    "'PINEAPPLE'"
   ]
  },
  {
   "cell_type": "code",
   "execution_count": 3,
   "id": "b924a2c0",
   "metadata": {},
   "outputs": [
    {
     "data": {
      "text/plain": [
       "['APPLE', 'CUSTARD APPLE', 'mango', 'kiwi', 'PINEAPPLE']"
      ]
     },
     "execution_count": 3,
     "metadata": {},
     "output_type": "execute_result"
    }
   ],
   "source": [
    "fruit = [ \"apple\", \"CustARD Apple\", \" ManGO   \", \"   kiWI\", \" pineAPPLE  \" ]\n",
    "\n",
    "result = []\n",
    "for f in fruit : \n",
    "    if \"APPLE\" in f.upper().strip() : \n",
    "        result.append(f.strip().upper())\n",
    "    else : \n",
    "        result.append( f.lower().strip() )\n",
    "result"
   ]
  },
  {
   "cell_type": "code",
   "execution_count": 4,
   "id": "7a7121d3",
   "metadata": {},
   "outputs": [
    {
     "data": {
      "text/plain": [
       "['APPLE', 'CUSTARD APPLE', 'mango', 'kiwi', 'PINEAPPLE']"
      ]
     },
     "execution_count": 4,
     "metadata": {},
     "output_type": "execute_result"
    }
   ],
   "source": [
    "fruit = [ \"apple\", \"CustARD Apple\", \" ManGO   \", \"   kiWI\", \" pineAPPLE  \" ]\n",
    "\n",
    "result = [ f.strip().upper() if 'APPLE' in f.strip().upper() else f.lower().strip() for f in fruit   ]\n",
    "result"
   ]
  },
  {
   "cell_type": "code",
   "execution_count": null,
   "id": "224cb320",
   "metadata": {},
   "outputs": [],
   "source": []
  },
  {
   "cell_type": "code",
   "execution_count": null,
   "id": "90ab4766",
   "metadata": {},
   "outputs": [],
   "source": []
  },
  {
   "cell_type": "markdown",
   "id": "67fdc649",
   "metadata": {},
   "source": [
    "# Directory / Folder / Path\n",
    "\n",
    "- read file at any folder\n",
    "- create, delete, rename folder\n",
    "- move into and out of the folder\n",
    "- import os (OPERATING SYSTEM) package\n",
    "\n"
   ]
  },
  {
   "cell_type": "markdown",
   "id": "282f5e81",
   "metadata": {},
   "source": [
    "## PATH"
   ]
  },
  {
   "cell_type": "code",
   "execution_count": 37,
   "id": "f0534919",
   "metadata": {},
   "outputs": [
    {
     "name": "stdout",
     "output_type": "stream",
     "text": [
      "amit\n",
      "chandan\n",
      "ruchi\n",
      "nitish\n",
      "kapil qq\n",
      "\n"
     ]
    }
   ],
   "source": [
    "# Read the FIle\n",
    "\n",
    "t = open(\"user.txt\", \"r\") # rt\n",
    "message = t.read() \n",
    "print(message)\n",
    "t.close()"
   ]
  },
  {
   "cell_type": "code",
   "execution_count": null,
   "id": "e2179adf",
   "metadata": {},
   "outputs": [],
   "source": []
  },
  {
   "cell_type": "code",
   "execution_count": 49,
   "id": "81931557",
   "metadata": {},
   "outputs": [
    {
     "name": "stdout",
     "output_type": "stream",
     "text": [
      "C:\\Users\\Nitish\\Documents\\employee.txt\n",
      "amit\n",
      "chandan\n",
      "ruchi\n",
      "nitish\n",
      "kapil qq\n",
      "\n"
     ]
    }
   ],
   "source": [
    "## Read the file that is present at some other location\n",
    "\n",
    "# single \\ is an escape operator, so you have to use \\\\ to read as string\n",
    "\n",
    "fileLocation = \"C:\\\\Users\\\\Nitish\\\\Documents\"\n",
    "path = fileLocation + \"\\\\\" +  \"employee.txt\"\n",
    "print(path)\n",
    "\n",
    "# Read the FIle\n",
    "\n",
    "t = open(path, \"r\") # rt\n",
    "message = t.read() \n",
    "print(message)\n",
    "t.close()"
   ]
  },
  {
   "cell_type": "code",
   "execution_count": 44,
   "id": "683e3c3a",
   "metadata": {},
   "outputs": [
    {
     "name": "stdout",
     "output_type": "stream",
     "text": [
      "C:/Users/Nitish/Documents/employee.txt\n",
      "amit\n",
      "chandan\n",
      "ruchi\n",
      "nitish\n",
      "kapil qq\n",
      "\n"
     ]
    }
   ],
   "source": [
    "## Read the file that is present at some other location\n",
    "fileLocation = \"C:/Users/Nitish/Documents\"\n",
    "path = fileLocation + \"/\" +  \"employee.txt\"\n",
    "print(path)\n",
    "\n",
    "# Read the FIle\n",
    "\n",
    "t = open(path, \"r\") # rt\n",
    "message = t.read() \n",
    "print(message)\n",
    "t.close()"
   ]
  },
  {
   "cell_type": "code",
   "execution_count": 51,
   "id": "ea7996ea",
   "metadata": {},
   "outputs": [
    {
     "name": "stdout",
     "output_type": "stream",
     "text": [
      "C:\\Users\\Nitish\\Documents\\employee.txt\n",
      "amit\n",
      "chandan\n",
      "ruchi\n",
      "nitish\n",
      "kapil qq\n",
      "\n"
     ]
    }
   ],
   "source": [
    "## Read the file that is present at some other location\n",
    "# r helped to read the backslash\n",
    "\n",
    "fileLocation = r\"C:\\Users\\Nitish\\Documents\"\n",
    "path = fileLocation + \"\\\\\" +  \"employee.txt\"\n",
    "print(path)\n",
    "\n",
    "# Read the FIle\n",
    "\n",
    "t = open(path, \"r\") # rt\n",
    "message = t.read() \n",
    "print(message)\n",
    "t.close()"
   ]
  },
  {
   "cell_type": "code",
   "execution_count": 59,
   "id": "b11c697b",
   "metadata": {},
   "outputs": [
    {
     "name": "stdout",
     "output_type": "stream",
     "text": [
      "C:\\Users\\Nitish\\Documents\\employee.txt\n",
      "amit\n",
      "chandan\n",
      "ruchi\n",
      "nitish\n",
      "kapil qq\n",
      "\n"
     ]
    }
   ],
   "source": [
    "## Read the file that is present at some other location\n",
    "# r helped to read the backslash\n",
    "\n",
    "import os \n",
    "\n",
    "fileLocation = r\"C:\\Users\\Nitish\"\n",
    "folder = 'Documents'\n",
    "# path = fileLocation + \"\\\\\" +  \"employee.txt\"\n",
    "path = os.path.join( fileLocation, folder, \"employee.txt\")\n",
    "print(path)\n",
    "\n",
    "# Read the FIle\n",
    "\n",
    "t = open(path, \"r\") # rt\n",
    "message = t.read() \n",
    "print(message)\n",
    "t.close()"
   ]
  },
  {
   "cell_type": "code",
   "execution_count": 60,
   "id": "2768bd01",
   "metadata": {},
   "outputs": [
    {
     "name": "stdout",
     "output_type": "stream",
     "text": [
      "C:\\Users\\Nitish\\Desktop\\PP\\Python , 25.06.23\\Day10 - 06.08.23\n"
     ]
    }
   ],
   "source": [
    "# 1. getcwd() : Whats the Current Directory\n",
    "\n",
    "import os\n",
    "\n",
    "print( os.getcwd() )\n"
   ]
  },
  {
   "cell_type": "code",
   "execution_count": 1,
   "id": "d92f07e1",
   "metadata": {},
   "outputs": [
    {
     "name": "stdout",
     "output_type": "stream",
     "text": [
      "Program Start : \n",
      "C:\\Users\\Nitish\\Desktop\\PP\\Python , 25.06.23\\Day10 - 06.08.23\n",
      "Folder Changed....\n",
      "C:\\Users\\Nitish\\Documents\n",
      "\n",
      "... Reading the File\n",
      "\n",
      "amit\n",
      "chandan\n",
      "ruchi\n",
      "nitish\n",
      "kapil qq\n",
      "\n",
      "We are Back to our ORIGINAL PATH ....\n",
      "\n",
      "C:\\Users\\Nitish\\Desktop\\PP\\Python , 25.06.23\\Day10 - 06.08.23\n"
     ]
    }
   ],
   "source": [
    "# 2. chdir(folderName/PATH) : Change the Folder\n",
    "\n",
    "import os\n",
    "import time\n",
    "\n",
    "print(\"Program Start : \")\n",
    "baseDir = os.getcwd()\n",
    "print( baseDir )\n",
    "time.sleep(5)\n",
    "\n",
    "fileLocation = r\"C:\\Users\\Nitish\"\n",
    "folder = 'Documents'\n",
    "path = os.path.join( fileLocation, folder) \n",
    "\n",
    "os.chdir(path)   # \"C:\\Users\\Nitish\\Documents\"\n",
    "print(\"Folder Changed....\")\n",
    "print( os.getcwd() )\n",
    "time.sleep(5)\n",
    "\n",
    "print(\"\\n... Reading the File\\n\")\n",
    "t = open( \"employee.txt\", \"r\") # rt\n",
    "message = t.read() \n",
    "print(message)\n",
    "t.close()\n",
    "time.sleep(5)\n",
    "\n",
    "os.chdir(baseDir)   \n",
    "print(\"We are Back to our ORIGINAL PATH ....\\n\")\n",
    "print( os.getcwd() )\n",
    "time.sleep(5)\n",
    "\n"
   ]
  },
  {
   "cell_type": "code",
   "execution_count": 63,
   "id": "ddbfdae0",
   "metadata": {},
   "outputs": [
    {
     "name": "stdout",
     "output_type": "stream",
     "text": [
      "C:\\Users\\Nitish\\Documents\n"
     ]
    }
   ],
   "source": [
    "print( os.getcwd() )\n"
   ]
  },
  {
   "cell_type": "code",
   "execution_count": 64,
   "id": "99acd314",
   "metadata": {},
   "outputs": [
    {
     "name": "stdout",
     "output_type": "stream",
     "text": [
      "\n",
      "... Reading the File\n",
      "\n"
     ]
    },
    {
     "ename": "FileNotFoundError",
     "evalue": "[Errno 2] No such file or directory: 'data.txt'",
     "output_type": "error",
     "traceback": [
      "\u001b[1;31m---------------------------------------------------------------------------\u001b[0m",
      "\u001b[1;31mFileNotFoundError\u001b[0m                         Traceback (most recent call last)",
      "\u001b[1;32m~\\AppData\\Local\\Temp\\ipykernel_15176\\162387608.py\u001b[0m in \u001b[0;36m<module>\u001b[1;34m\u001b[0m\n\u001b[0;32m      1\u001b[0m \u001b[0mprint\u001b[0m\u001b[1;33m(\u001b[0m\u001b[1;34m\"\\n... Reading the File\\n\"\u001b[0m\u001b[1;33m)\u001b[0m\u001b[1;33m\u001b[0m\u001b[1;33m\u001b[0m\u001b[0m\n\u001b[1;32m----> 2\u001b[1;33m \u001b[0mt\u001b[0m \u001b[1;33m=\u001b[0m \u001b[0mopen\u001b[0m\u001b[1;33m(\u001b[0m \u001b[1;34m\"data.txt\"\u001b[0m\u001b[1;33m,\u001b[0m \u001b[1;34m\"r\"\u001b[0m\u001b[1;33m)\u001b[0m \u001b[1;31m# rt\u001b[0m\u001b[1;33m\u001b[0m\u001b[1;33m\u001b[0m\u001b[0m\n\u001b[0m\u001b[0;32m      3\u001b[0m \u001b[0mmessage\u001b[0m \u001b[1;33m=\u001b[0m \u001b[0mt\u001b[0m\u001b[1;33m.\u001b[0m\u001b[0mread\u001b[0m\u001b[1;33m(\u001b[0m\u001b[1;33m)\u001b[0m\u001b[1;33m\u001b[0m\u001b[1;33m\u001b[0m\u001b[0m\n\u001b[0;32m      4\u001b[0m \u001b[0mprint\u001b[0m\u001b[1;33m(\u001b[0m\u001b[0mmessage\u001b[0m\u001b[1;33m)\u001b[0m\u001b[1;33m\u001b[0m\u001b[1;33m\u001b[0m\u001b[0m\n\u001b[0;32m      5\u001b[0m \u001b[0mt\u001b[0m\u001b[1;33m.\u001b[0m\u001b[0mclose\u001b[0m\u001b[1;33m(\u001b[0m\u001b[1;33m)\u001b[0m\u001b[1;33m\u001b[0m\u001b[1;33m\u001b[0m\u001b[0m\n",
      "\u001b[1;31mFileNotFoundError\u001b[0m: [Errno 2] No such file or directory: 'data.txt'"
     ]
    }
   ],
   "source": [
    "\n",
    "print(\"\\n... Reading the File\\n\")\n",
    "t = open( \"data.txt\", \"r\") # rt\n",
    "message = t.read() \n",
    "print(message)\n",
    "t.close()"
   ]
  },
  {
   "cell_type": "code",
   "execution_count": null,
   "id": "0166721f",
   "metadata": {},
   "outputs": [],
   "source": []
  },
  {
   "cell_type": "code",
   "execution_count": 11,
   "id": "04f54492",
   "metadata": {},
   "outputs": [
    {
     "name": "stdout",
     "output_type": "stream",
     "text": [
      "Program Start : \n",
      "C:\\Users\\Nitish\\Desktop\\PP\\Python , 25.06.23\\Day10 - 06.08.23\n",
      "PATH :  C:\\Users\\Nitish\\Documents\\Python\n"
     ]
    }
   ],
   "source": [
    "# 3. Make Directory\n",
    "# os.mkdir(folderName / PATH)\n",
    "\n",
    "import os\n",
    "fileLocation = r\"C:\\Users\\Nitish\\Documents\"\n",
    "folder = 'Python'\n",
    "path = os.path.join( fileLocation, folder) \n",
    "\n",
    "print(\"Program Start : \")\n",
    "\n",
    "baseDir = os.getcwd()\n",
    "print( baseDir )\n",
    "time.sleep(5)\n",
    "\n",
    "print(\"PATH : \", path)\n",
    "os.mkdir(\"Python\")\n",
    "os.mkdir(path)\n"
   ]
  },
  {
   "cell_type": "code",
   "execution_count": null,
   "id": "1a3dead1",
   "metadata": {},
   "outputs": [],
   "source": []
  },
  {
   "cell_type": "code",
   "execution_count": 12,
   "id": "dc8feff9",
   "metadata": {},
   "outputs": [
    {
     "name": "stdout",
     "output_type": "stream",
     "text": [
      "Program Start : \n",
      "C:\\Users\\Nitish\\Desktop\\PP\\Python , 25.06.23\\Day10 - 06.08.23\n",
      "PATH :  C:\\Users\\Nitish\\Documents\\Python\n"
     ]
    }
   ],
   "source": [
    "# 4. remove Directory\n",
    "# os.rmdir(folderName / PATH)\n",
    "\n",
    "\n",
    "import os\n",
    "fileLocation = r\"C:\\Users\\Nitish\\Documents\"\n",
    "folder = 'Python'\n",
    "path = os.path.join( fileLocation, folder) \n",
    "\n",
    "print(\"Program Start : \")\n",
    "\n",
    "baseDir = os.getcwd()\n",
    "print( baseDir )\n",
    "time.sleep(5)\n",
    "\n",
    "print(\"PATH : \", path)\n",
    "os.rmdir(\"Python\")\n",
    "os.rmdir(path)\n"
   ]
  },
  {
   "cell_type": "code",
   "execution_count": 14,
   "id": "cd835f6a",
   "metadata": {},
   "outputs": [],
   "source": [
    "# 5. Rename the Folder\n",
    "\n",
    "import os, time\n",
    "\n",
    "os.mkdir(\"Python\")\n",
    "time.sleep(5)\n",
    "\n",
    "os.rename(\"Python\", \"Java\")\n",
    "# os.rename(\"Ruby\", \"Java\")\n",
    "time.sleep(5)\n",
    "\n",
    "os.rmdir(\"Java\")\n",
    "\n"
   ]
  },
  {
   "cell_type": "code",
   "execution_count": 22,
   "id": "09cea45d",
   "metadata": {},
   "outputs": [
    {
     "name": "stdout",
     "output_type": "stream",
     "text": [
      "Base Direcotry :  C:\\Users\\Nitish\\Desktop\\PP\\Python , 25.06.23\\Day10 - 06.08.23\n",
      "path ::  DummyFiles\\dummy.txt\n",
      "path ::  DummyFiles\\New Python File.py\n"
     ]
    }
   ],
   "source": [
    "# 6. Remove the files...\n",
    "# os.remove(fileName)\n",
    "\n",
    "\n",
    "## Step1 : \n",
    "# Case : present inside the list\n",
    "folderName = \"DummyFiles\"\n",
    "# target = [\"aaa.xlsx\", \"dummy.txt\", \"Image20230715120706.png\", \"New Python File.py\", \"thinkpython by O'reilly.pdf\"]\n",
    "target = [\"dummy.txt\", \"New Python File.py\"]\n",
    "\n",
    "print(\"Base Direcotry : \", os.getcwd())\n",
    "for t in target : \n",
    "#     print(t)\n",
    "    path = os.path.join(folderName, t)\n",
    "#     os.remove(t)\n",
    "    print(\"path :: \", path)\n",
    "    os.remove(path)\n",
    "\n"
   ]
  },
  {
   "cell_type": "code",
   "execution_count": 23,
   "id": "fea2072f",
   "metadata": {},
   "outputs": [
    {
     "name": "stdout",
     "output_type": "stream",
     "text": [
      "Base Direcotry :  C:\\Users\\Nitish\\Desktop\\PP\\Python , 25.06.23\\Day10 - 06.08.23\n",
      "path ::  C:\\Users\\Nitish\\Desktop\\PP\\Python , 25.06.23\\Day10 - 06.08.23\\DummyFiles\\dummy.txt\n",
      "path ::  C:\\Users\\Nitish\\Desktop\\PP\\Python , 25.06.23\\Day10 - 06.08.23\\DummyFiles\\New Python File.py\n"
     ]
    }
   ],
   "source": [
    "# 6. Remove the files...\n",
    "# os.remove(fileName)\n",
    "\n",
    "\n",
    "## Step2 : \n",
    "# Case : present inside the list\n",
    "folderName = \"DummyFiles\"\n",
    "# target = [\"aaa.xlsx\", \"dummy.txt\", \"Image20230715120706.png\", \"New Python File.py\", \"thinkpython by O'reilly.pdf\"]\n",
    "target = [\"dummy.txt\", \"New Python File.py\"]\n",
    "\n",
    "print(\"Base Direcotry : \", os.getcwd())\n",
    "for t in target : \n",
    "#     print(t)\n",
    "    path = os.path.join(os.getcwd(), folderName, t)\n",
    "#     os.remove(t)\n",
    "    print(\"path :: \", path)\n",
    "    os.remove(path)\n",
    "\n"
   ]
  },
  {
   "cell_type": "code",
   "execution_count": null,
   "id": "3eb1f63a",
   "metadata": {},
   "outputs": [],
   "source": [
    "# 6. Remove the files...\n",
    "# os.remove(fileName)\n",
    "\n",
    "import os\n",
    "\n",
    "## Step3 : Delete all the files that are present in specific Folder\n",
    "# Case : present inside the list\n",
    "folderName = \"DummyFiles\"\n",
    "print(\"Base Direcotry : \", os.getcwd())\n",
    "\n",
    "\n",
    "\n",
    "for t in target : \n",
    "#     print(t)\n",
    "    path = os.path.join(os.getcwd(), folderName, t)\n",
    "#     os.remove(t)\n",
    "    print(\"path :: \", path)\n",
    "    os.remove(path)\n",
    "\n"
   ]
  },
  {
   "cell_type": "code",
   "execution_count": 24,
   "id": "6fc07f50",
   "metadata": {},
   "outputs": [
    {
     "data": {
      "text/plain": [
       "'C:\\\\Users\\\\Nitish\\\\Desktop\\\\PP\\\\Python , 25.06.23\\\\Day10 - 06.08.23'"
      ]
     },
     "execution_count": 24,
     "metadata": {},
     "output_type": "execute_result"
    }
   ],
   "source": [
    "os.getcwd()"
   ]
  },
  {
   "cell_type": "code",
   "execution_count": 25,
   "id": "7f924ced",
   "metadata": {},
   "outputs": [
    {
     "data": {
      "text/plain": [
       "['.ipynb_checkpoints',\n",
       " 'data.txt',\n",
       " 'DummyFiles',\n",
       " 'DummyFiles - Copy',\n",
       " 'File Handling.ipynb',\n",
       " 'newFile.txt',\n",
       " 'user.txt']"
      ]
     },
     "execution_count": 25,
     "metadata": {},
     "output_type": "execute_result"
    }
   ],
   "source": [
    "os.listdir(os.getcwd()) # Get a list of only TEXT files"
   ]
  },
  {
   "cell_type": "code",
   "execution_count": 26,
   "id": "de0dee31",
   "metadata": {},
   "outputs": [
    {
     "data": {
      "text/plain": [
       "True"
      ]
     },
     "execution_count": 26,
     "metadata": {},
     "output_type": "execute_result"
    }
   ],
   "source": [
    " os.path.isdir( 'DummyFiles' )"
   ]
  },
  {
   "cell_type": "code",
   "execution_count": 27,
   "id": "58e1836b",
   "metadata": {},
   "outputs": [
    {
     "data": {
      "text/plain": [
       "False"
      ]
     },
     "execution_count": 27,
     "metadata": {},
     "output_type": "execute_result"
    }
   ],
   "source": [
    " os.path.isdir( 'File Handling.ipynb' )"
   ]
  },
  {
   "cell_type": "code",
   "execution_count": null,
   "id": "57e8218c",
   "metadata": {},
   "outputs": [],
   "source": [
    "# 6. Remove the files...\n",
    "# os.remove(fileName)\n",
    "\n",
    "import os\n",
    "\n",
    "## Step4 : Delete Speific files that are present in specific Folder\n",
    "# Delete only : PY Files\n",
    "# Case : present inside the list\n",
    "folderName = \"DummyFiles\"\n",
    "print(\"Base Direcotry : \", os.getcwd())\n",
    "\n",
    "\n",
    "\n",
    "for t in target : \n",
    "#     print(t)\n",
    "    path = os.path.join(os.getcwd(), folderName, t)\n",
    "#     os.remove(t)\n",
    "    print(\"path :: \", path)\n",
    "    os.remove(path)\n",
    "\n"
   ]
  },
  {
   "cell_type": "code",
   "execution_count": null,
   "id": "31dea4f0",
   "metadata": {},
   "outputs": [],
   "source": []
  },
  {
   "cell_type": "code",
   "execution_count": null,
   "id": "9c4a4aeb",
   "metadata": {},
   "outputs": [],
   "source": [
    "## Delete the folder that contain fils\n",
    "\n",
    "# os.rmdir() # delete the EMPTY FOLDER\n",
    "# os.remove() # deletes the files\n",
    "# shutil.rmtree() #delete folder with files"
   ]
  },
  {
   "cell_type": "code",
   "execution_count": 29,
   "id": "9e4e6080",
   "metadata": {},
   "outputs": [],
   "source": [
    "# import os\n",
    "# os.rmdir(\"DummyFiles 2\")\n",
    "\n",
    "import shutil\n",
    "shutil.rmtree('DummyFiles 2')\n"
   ]
  },
  {
   "cell_type": "code",
   "execution_count": null,
   "id": "fee4a1d3",
   "metadata": {},
   "outputs": [],
   "source": [
    "# shutil.copy(sourcePAth, destPath)\n",
    "# HINT :: shutil.copy(\"Documents/file.txt\", \"Desktop\\file.txt\")"
   ]
  },
  {
   "cell_type": "code",
   "execution_count": null,
   "id": "822da007",
   "metadata": {},
   "outputs": [],
   "source": []
  },
  {
   "cell_type": "code",
   "execution_count": null,
   "id": "8ca1be4b",
   "metadata": {},
   "outputs": [],
   "source": []
  },
  {
   "cell_type": "code",
   "execution_count": null,
   "id": "78aa8d67",
   "metadata": {},
   "outputs": [],
   "source": []
  },
  {
   "cell_type": "code",
   "execution_count": null,
   "id": "021667b2",
   "metadata": {},
   "outputs": [],
   "source": []
  },
  {
   "cell_type": "code",
   "execution_count": null,
   "id": "69fe0369",
   "metadata": {},
   "outputs": [],
   "source": []
  },
  {
   "cell_type": "code",
   "execution_count": null,
   "id": "b49a88b5",
   "metadata": {},
   "outputs": [],
   "source": []
  },
  {
   "cell_type": "code",
   "execution_count": null,
   "id": "97f02868",
   "metadata": {},
   "outputs": [],
   "source": []
  },
  {
   "cell_type": "code",
   "execution_count": null,
   "id": "4418cb24",
   "metadata": {},
   "outputs": [],
   "source": []
  }
 ],
 "metadata": {
  "kernelspec": {
   "display_name": "Python 3 (ipykernel)",
   "language": "python",
   "name": "python3"
  },
  "language_info": {
   "codemirror_mode": {
    "name": "ipython",
    "version": 3
   },
   "file_extension": ".py",
   "mimetype": "text/x-python",
   "name": "python",
   "nbconvert_exporter": "python",
   "pygments_lexer": "ipython3",
   "version": "3.9.13"
  }
 },
 "nbformat": 4,
 "nbformat_minor": 5
}
